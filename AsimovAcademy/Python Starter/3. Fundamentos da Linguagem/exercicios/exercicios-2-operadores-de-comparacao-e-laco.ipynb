{
 "cells": [
  {
   "cell_type": "markdown",
   "metadata": {},
   "source": [
    "<img src=\"https://asimov.academy/wp-content/uploads/2021/01/logo.png\" width=\"200\"/>\n",
    "_____________________________________________\n",
    "\n",
    "## Exercícios #2 - Operadores de comparação e laços\n"
   ]
  },
  {
   "cell_type": "markdown",
   "metadata": {},
   "source": [
    "### Exercício 1\n",
    "Faça um programa para a leitura de duas notas parciais de um aluno. O programa deve calcular a média alcançada por aluno e apresentar:\n",
    "- A mensagem \"Aprovado\", se a média alcançada for maior ou igual a 7;\n",
    "- A mensagem \"Reprovado\", se a média for menor do que 7;\n",
    "- A mensagem \"Aprovado com Distinção\", se a média for igual a 10."
   ]
  },
  {
   "cell_type": "code",
   "execution_count": 53,
   "metadata": {},
   "outputs": [
    {
     "name": "stdin",
     "output_type": "stream",
     "text": [
      "Nota 1:  10\n",
      "Nota 2:  10\n"
     ]
    },
    {
     "name": "stdout",
     "output_type": "stream",
     "text": [
      "Média: 10.00\n",
      "Parabéns! Aprovado com Distinção!\n"
     ]
    }
   ],
   "source": [
    "n1 = float(input('Nota 1: '))\n",
    "n2 = float(input('Nota 2: '))\n",
    "media = (n1 + n2) / 2\n",
    "print(f'Média: {media:.2f}')\n",
    "\n",
    "if media == 10:\n",
    "    print('Parabéns! Aprovado com Distinção!')\n",
    "elif media >= 7:\n",
    "    print('Aluno Aprovado')\n",
    "else:\n",
    "    print('Aluno Reprovado')"
   ]
  },
  {
   "cell_type": "markdown",
   "metadata": {},
   "source": [
    "### Exercício 2\n",
    "Escreva um script que leia três números e mostre o maior e o menor deles."
   ]
  },
  {
   "cell_type": "code",
   "execution_count": 59,
   "metadata": {},
   "outputs": [
    {
     "name": "stdin",
     "output_type": "stream",
     "text": [
      "Informe o 1º número:  10\n",
      "Informe o 2º número:  5\n",
      "Informe o 3º número:  1\n"
     ]
    },
    {
     "name": "stdout",
     "output_type": "stream",
     "text": [
      "O menor número é 1\n",
      "O maior número é 10\n"
     ]
    }
   ],
   "source": [
    "list_nums = []\n",
    "for i in range(3):\n",
    "    x = int(input(f'Informe o {i + 1}º número: '))\n",
    "    list_nums.append(x)\n",
    "list_nums.sort()\n",
    "print(f'O menor número é {list_nums[0]}')\n",
    "print(f'O maior número é {list_nums[-1]}')"
   ]
  },
  {
   "cell_type": "markdown",
   "metadata": {},
   "source": [
    "### Exercício 3 \n",
    "Nome na vertical em escada. \n",
    "\n",
    "F<br>\n",
    "FU<br>\n",
    "FUL<br>\n",
    "FULA<br>\n",
    "FULAN<br>\n",
    "FULANO<br>"
   ]
  },
  {
   "cell_type": "code",
   "execution_count": 61,
   "metadata": {},
   "outputs": [
    {
     "name": "stdin",
     "output_type": "stream",
     "text": [
      "Informe seu nome:  Patrick\n"
     ]
    },
    {
     "name": "stdout",
     "output_type": "stream",
     "text": [
      "\n",
      "P\n",
      "Pa\n",
      "Pat\n",
      "Patr\n",
      "Patri\n",
      "Patric\n",
      "Patrick\n"
     ]
    }
   ],
   "source": [
    "nome = str(input('Informe seu nome: '))\n",
    "\n",
    "for i in range(len(nome)+1):\n",
    "    print(nome[:i])"
   ]
  },
  {
   "cell_type": "markdown",
   "metadata": {},
   "source": [
    "### Exercício 4\n",
    "A série de Fibonacci é formada pela seqüência 1,1,2,3,5,8,13,21,34,55,... (o próximo termo, a partir do terceiro, é sempre gerado a partir do somatório dos últimos dois). Faça um programa capaz de gerar a série até o n−ésimo termo (onde o valor n deve ser inserido pelo usuário)."
   ]
  },
  {
   "cell_type": "code",
   "execution_count": 67,
   "metadata": {},
   "outputs": [
    {
     "name": "stdin",
     "output_type": "stream",
     "text": [
      "Quantos números da sequência de Fibonacci deseja mostrar?  10\n"
     ]
    },
    {
     "name": "stdout",
     "output_type": "stream",
     "text": [
      "1 1 2 3 5 8 13 21 34 55 "
     ]
    }
   ],
   "source": [
    "n = int(input('Quantos números da sequência de Fibonacci deseja mostrar? '))\n",
    "t1 = 1\n",
    "t2 = 1\n",
    "print(t1, t2, end=' ')\n",
    "\n",
    "for c in range(3, n+1):\n",
    "    t3 = t1 + t2\n",
    "    print(t3, end=' ')\n",
    "    t1 = t2\n",
    "    t2 = t3"
   ]
  },
  {
   "cell_type": "markdown",
   "metadata": {},
   "source": [
    "### Exercício 5\n",
    "Faça um programa que leia e valide as seguintes informações:\n",
    "- Nome: maior que 3 caracteres;\n",
    "- Idade: entre 0 e 150;\n",
    "- Salário: maior que zero;\n",
    "- Sexo: 'f' ou 'm';\n",
    "- Estado Civil: 's', 'c', 'v', 'd';"
   ]
  },
  {
   "cell_type": "code",
   "execution_count": 71,
   "metadata": {},
   "outputs": [
    {
     "name": "stdin",
     "output_type": "stream",
     "text": [
      "Nome:  anar\n",
      "Idade:  100\n",
      "Salário: R$  10\n",
      "Sexo: [F/M] feminino\n",
      "Estado Civil: S/C/V/D s\n"
     ]
    }
   ],
   "source": [
    "while True:\n",
    "    nome = str(input('Nome: '))\n",
    "    if len(nome) > 3:\n",
    "        break\n",
    "    else:\n",
    "        print('O nome deve ter mais de 3 caracteres! Tente novamente!')\n",
    "        \n",
    "while True:\n",
    "    idade = int(input('Idade: '))\n",
    "    if 0 <= idade <= 150:\n",
    "        break\n",
    "    else:\n",
    "        print('A idade deve estar entre 0 e 150!')\n",
    "        \n",
    "while True:\n",
    "    salario = float(input('Salário: R$ '))\n",
    "    if salario > 0:\n",
    "        break\n",
    "    else:\n",
    "        print('O valor do salário deve ser maior do que zero!')\n",
    "        \n",
    "while True:\n",
    "    sexo = str(input('Sexo: [F/M]')).upper()[0]\n",
    "    if sexo in 'MF':\n",
    "        break\n",
    "    else:\n",
    "        print('Informe F para feminino e M para masculino')\n",
    "while True:\n",
    "    estado_civil = str(input('Estado Civil: S/C/V/D')).upper()[0]\n",
    "    if estado_civil in 'SCVD':\n",
    "        break\n",
    "    else:\n",
    "        print(\"\"\"Informe algum dos seguintes estados:\n",
    "                 S - Solteiro\n",
    "                 C - Casado\n",
    "                 V - Víúva\n",
    "                 D - Divorciado\"\"\")\n"
   ]
  },
  {
   "cell_type": "markdown",
   "metadata": {},
   "source": [
    "### Exercício 6\n",
    "Faça um programa que peça um número inteiro e determine se ele é ou não um número primo. Um número primo é aquele que é divisível somente por ele mesmo e por 1. \n",
    "Dica: Utilize o operador aritmético `%`, que retorna o resto da divisão de dois números."
   ]
  },
  {
   "cell_type": "code",
   "execution_count": 75,
   "metadata": {},
   "outputs": [
    {
     "name": "stdin",
     "output_type": "stream",
     "text": [
      "Digite um número inteiro:  17\n"
     ]
    },
    {
     "name": "stdout",
     "output_type": "stream",
     "text": [
      "O número 17 é primo\n"
     ]
    }
   ],
   "source": [
    "check = 0\n",
    "n = int(input('Digite um número inteiro: '))\n",
    "\n",
    "for i in range(2, n):\n",
    "    if n % i == 0:\n",
    "        check = 1\n",
    "        \n",
    "if check == 0:\n",
    "    print(f'O número {n} é primo')\n",
    "else:\n",
    "    print(f'O número {n} não é primo')"
   ]
  },
  {
   "cell_type": "code",
   "execution_count": null,
   "metadata": {},
   "outputs": [],
   "source": []
  }
 ],
 "metadata": {
  "kernelspec": {
   "display_name": "Python 3 (ipykernel)",
   "language": "python",
   "name": "python3"
  },
  "language_info": {
   "codemirror_mode": {
    "name": "ipython",
    "version": 3
   },
   "file_extension": ".py",
   "mimetype": "text/x-python",
   "name": "python",
   "nbconvert_exporter": "python",
   "pygments_lexer": "ipython3",
   "version": "3.10.9"
  }
 },
 "nbformat": 4,
 "nbformat_minor": 4
}
