{
 "cells": [
  {
   "cell_type": "markdown",
   "metadata": {},
   "source": [
    "<img src=\"https://asimov.academy/wp-content/uploads/2021/01/logo.png\" width=\"200\"/>\n",
    "_____________________________________________\n",
    "\n",
    "## Exercícios #1 - Estruturas de dados\n"
   ]
  },
  {
   "cell_type": "markdown",
   "metadata": {},
   "source": [
    "### Exercício 1\n",
    "Utilizando o built-in method input(), crie um programa que receba a altura e o peso de uma pessoa e imprima na tela o IMC da mesma."
   ]
  },
  {
   "cell_type": "code",
   "execution_count": 10,
   "metadata": {},
   "outputs": [
    {
     "name": "stdout",
     "output_type": "stream",
     "text": [
      "Bem vindo à Calculadora de IMC\n"
     ]
    },
    {
     "name": "stdin",
     "output_type": "stream",
     "text": [
      "Digite sua altura:  1.71\n",
      "Digite seu peso:  62\n"
     ]
    },
    {
     "name": "stdout",
     "output_type": "stream",
     "text": [
      "Calculando...\n",
      "==========\n",
      "Seu IMC é de 21.20\n"
     ]
    }
   ],
   "source": [
    "from time import sleep\n",
    "\n",
    "print('Bem vindo à Calculadora de IMC')\n",
    "altura = float(input('Digite sua altura: '))\n",
    "peso = float(input('Digite seu peso: '))\n",
    "IMC = peso / (altura ** 2)\n",
    "print('Calculando...')\n",
    "sleep(2)\n",
    "print('=' * 10)\n",
    "\n",
    "print(f'Seu IMC é de {IMC:.2f}')"
   ]
  },
  {
   "cell_type": "markdown",
   "metadata": {
    "tags": []
   },
   "source": [
    "### Exercício 2 \n",
    "Escreva um programa que pergunte o nome completo do usuário e cumprimente o mesmo pelo primeiro nome."
   ]
  },
  {
   "cell_type": "code",
   "execution_count": 13,
   "metadata": {},
   "outputs": [
    {
     "name": "stdin",
     "output_type": "stream",
     "text": [
      "Digite seu nome completo:  Patrick Ericksson\n"
     ]
    },
    {
     "name": "stdout",
     "output_type": "stream",
     "text": [
      "Seja Bem-Vindo, Patrick\n"
     ]
    }
   ],
   "source": [
    "nome = str(input('Digite seu nome completo: '))\n",
    "primeiro_nome = nome.split()[0]\n",
    "print(f'Seja Bem-Vindo, {primeiro_nome}')"
   ]
  },
  {
   "cell_type": "markdown",
   "metadata": {},
   "source": [
    "### Exercício 3\n",
    "Desenho um código que extraia o domínio de um e-mail informado."
   ]
  },
  {
   "cell_type": "code",
   "execution_count": 16,
   "metadata": {},
   "outputs": [
    {
     "name": "stdin",
     "output_type": "stream",
     "text": [
      "Digite seu e-mail:  teste@gnail.com\n"
     ]
    },
    {
     "name": "stdout",
     "output_type": "stream",
     "text": [
      "Domínio do e-mail: gnail.com\n"
     ]
    }
   ],
   "source": [
    "email = str(input('Digite seu e-mail: '))\n",
    "dominio = email.split('@')[-1]\n",
    "print(f'Domínio do e-mail: {dominio}')"
   ]
  },
  {
   "cell_type": "markdown",
   "metadata": {},
   "source": [
    "### Exercício 4 \n",
    "Faça um programa para uma loja de tintas. A pessoa informa a área em m2 que deseja pintar, e o script calculará a quantidade de latas de tinta que a pessoa deve comprar e o valor. Considere que cada litro de tinta pinta 3m2, que cada lata contém 18L e que custa R$ 80."
   ]
  },
  {
   "cell_type": "code",
   "execution_count": 20,
   "metadata": {},
   "outputs": [
    {
     "name": "stdout",
     "output_type": "stream",
     "text": [
      "Bem vindo à Loja de Tintas\n"
     ]
    },
    {
     "name": "stdin",
     "output_type": "stream",
     "text": [
      "Digite a área a ser pintada:  180\n"
     ]
    },
    {
     "name": "stdout",
     "output_type": "stream",
     "text": [
      "Para pintar a área de 180.0m2 você precisa de 3 lata(s)\n",
      "Valor da compra: R$ 240.00\n"
     ]
    }
   ],
   "source": [
    "print('Bem vindo à Loja de Tintas')\n",
    "area = float(input('Digite a área a ser pintada: '))\n",
    "litros = area / 3\n",
    "latas = int(litros / 18)\n",
    "print(f'Para pintar a área de {area}m2 você precisa de {latas} lata(s)')\n",
    "valor = latas * 80\n",
    "print(f'Valor da compra: R$ {valor:.2f}')"
   ]
  },
  {
   "cell_type": "markdown",
   "metadata": {},
   "source": [
    "### Exercício 5\n",
    "Faça um Programa que pergunte quanto você ganha por hora e o número de horas trabalhadas no mês. Calcule e mostre o total do seu salário no referido mês, sabendo-se que são descontados 11% para o Imposto de Renda, 8% para o INSS e 5% para o sindicato, faça um programa que nos dê:\n",
    "1. Salário bruto.\n",
    "2. Quanto pagou ao INSS.\n",
    "3. Quanto pagou ao sindicato.\n",
    "4. O salário líquido."
   ]
  },
  {
   "cell_type": "code",
   "execution_count": 31,
   "metadata": {},
   "outputs": [
    {
     "name": "stdout",
     "output_type": "stream",
     "text": [
      "Calculadora de Salário\n"
     ]
    },
    {
     "name": "stdin",
     "output_type": "stream",
     "text": [
      "Informe sua remuneração por hora:  20\n",
      "Informe quantas horas trabalhou no mês:  160\n"
     ]
    },
    {
     "name": "stdout",
     "output_type": "stream",
     "text": [
      "====================\n",
      "Salário Bruto: R$ 3200.00\n",
      "IR: R$ 352.00\n",
      "INSS: R$ 227.84\n",
      "Sindicato: R$ 131.01\n",
      "SALÁRIO LÍQUIDO: R$ 2489.15\n"
     ]
    }
   ],
   "source": [
    "print('Calculadora de Salário')\n",
    "valor_hora = float(input('Informe sua remuneração por hora: '))\n",
    "horas_mes = float(input('Informe quantas horas trabalhou no mês: '))\n",
    "\n",
    "salario_bruto = valor_hora * horas_mes\n",
    "ir = salario_bruto * 0.11\n",
    "inss = (salario_bruto - ir) * 0.08\n",
    "sindicato = (salario_bruto - ir - inss) * 0.05\n",
    "\n",
    "print(\"=\" * 20)\n",
    "print(f'Salário Bruto: R$ {salario_bruto:.2f}')\n",
    "print(f'IR: R$ {ir:.2f}')\n",
    "print(f'INSS: R$ {inss:.2f}')\n",
    "print(f'Sindicato: R$ {sindicato:.2f}')\n",
    "salario_liquido = salario_bruto - ir - inss - sindicato\n",
    "print(f'SALÁRIO LÍQUIDO: R$ {salario_liquido:.2f}')"
   ]
  },
  {
   "cell_type": "code",
   "execution_count": null,
   "metadata": {},
   "outputs": [],
   "source": []
  }
 ],
 "metadata": {
  "kernelspec": {
   "display_name": "Python 3 (ipykernel)",
   "language": "python",
   "name": "python3"
  },
  "language_info": {
   "codemirror_mode": {
    "name": "ipython",
    "version": 3
   },
   "file_extension": ".py",
   "mimetype": "text/x-python",
   "name": "python",
   "nbconvert_exporter": "python",
   "pygments_lexer": "ipython3",
   "version": "3.10.9"
  }
 },
 "nbformat": 4,
 "nbformat_minor": 4
}
