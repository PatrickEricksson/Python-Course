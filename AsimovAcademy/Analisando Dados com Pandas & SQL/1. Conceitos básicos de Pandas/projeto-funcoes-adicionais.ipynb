{
 "cells": [
  {
   "cell_type": "markdown",
   "id": "satisfied-album",
   "metadata": {},
   "source": [
    "# Projeto - Funções adicionais"
   ]
  },
  {
   "cell_type": "code",
   "execution_count": 1,
   "id": "refined-ambassador",
   "metadata": {},
   "outputs": [],
   "source": [
    "import pandas as pd\n",
    "import numpy as np"
   ]
  },
  {
   "cell_type": "code",
   "execution_count": 2,
   "id": "adjacent-holder",
   "metadata": {},
   "outputs": [],
   "source": [
    "df_obesity = pd.read_csv(\"Datasets/obesity_cleaned.csv\")"
   ]
  },
  {
   "cell_type": "markdown",
   "id": "secondary-debate",
   "metadata": {},
   "source": [
    "### to_frame() ou []"
   ]
  },
  {
   "cell_type": "code",
   "execution_count": 3,
   "id": "instant-lunch",
   "metadata": {},
   "outputs": [
    {
     "data": {
      "text/plain": [
       "pandas.core.series.Series"
      ]
     },
     "execution_count": 3,
     "metadata": {},
     "output_type": "execute_result"
    }
   ],
   "source": [
    "type(df_obesity[\"Year\"])"
   ]
  },
  {
   "cell_type": "code",
   "execution_count": 4,
   "id": "cooked-parks",
   "metadata": {},
   "outputs": [
    {
     "data": {
      "text/html": [
       "<div>\n",
       "<style scoped>\n",
       "    .dataframe tbody tr th:only-of-type {\n",
       "        vertical-align: middle;\n",
       "    }\n",
       "\n",
       "    .dataframe tbody tr th {\n",
       "        vertical-align: top;\n",
       "    }\n",
       "\n",
       "    .dataframe thead th {\n",
       "        text-align: right;\n",
       "    }\n",
       "</style>\n",
       "<table border=\"1\" class=\"dataframe\">\n",
       "  <thead>\n",
       "    <tr style=\"text-align: right;\">\n",
       "      <th></th>\n",
       "      <th>Year</th>\n",
       "    </tr>\n",
       "  </thead>\n",
       "  <tbody>\n",
       "    <tr>\n",
       "      <th>0</th>\n",
       "      <td>1975</td>\n",
       "    </tr>\n",
       "    <tr>\n",
       "      <th>1</th>\n",
       "      <td>1975</td>\n",
       "    </tr>\n",
       "    <tr>\n",
       "      <th>2</th>\n",
       "      <td>1975</td>\n",
       "    </tr>\n",
       "    <tr>\n",
       "      <th>3</th>\n",
       "      <td>1976</td>\n",
       "    </tr>\n",
       "    <tr>\n",
       "      <th>4</th>\n",
       "      <td>1976</td>\n",
       "    </tr>\n",
       "    <tr>\n",
       "      <th>...</th>\n",
       "      <td>...</td>\n",
       "    </tr>\n",
       "    <tr>\n",
       "      <th>24565</th>\n",
       "      <td>2015</td>\n",
       "    </tr>\n",
       "    <tr>\n",
       "      <th>24566</th>\n",
       "      <td>2015</td>\n",
       "    </tr>\n",
       "    <tr>\n",
       "      <th>24567</th>\n",
       "      <td>2016</td>\n",
       "    </tr>\n",
       "    <tr>\n",
       "      <th>24568</th>\n",
       "      <td>2016</td>\n",
       "    </tr>\n",
       "    <tr>\n",
       "      <th>24569</th>\n",
       "      <td>2016</td>\n",
       "    </tr>\n",
       "  </tbody>\n",
       "</table>\n",
       "<p>24570 rows × 1 columns</p>\n",
       "</div>"
      ],
      "text/plain": [
       "       Year\n",
       "0      1975\n",
       "1      1975\n",
       "2      1975\n",
       "3      1976\n",
       "4      1976\n",
       "...     ...\n",
       "24565  2015\n",
       "24566  2015\n",
       "24567  2016\n",
       "24568  2016\n",
       "24569  2016\n",
       "\n",
       "[24570 rows x 1 columns]"
      ]
     },
     "execution_count": 4,
     "metadata": {},
     "output_type": "execute_result"
    }
   ],
   "source": [
    "df_obesity[\"Year\"].to_frame()"
   ]
  },
  {
   "cell_type": "code",
   "execution_count": 12,
   "id": "handy-married",
   "metadata": {},
   "outputs": [
    {
     "data": {
      "text/plain": [
       "pandas.core.frame.DataFrame"
      ]
     },
     "execution_count": 12,
     "metadata": {},
     "output_type": "execute_result"
    }
   ],
   "source": [
    "type(df_obesity[\"Year\"].to_frame())"
   ]
  },
  {
   "cell_type": "code",
   "execution_count": 13,
   "id": "artificial-natural",
   "metadata": {},
   "outputs": [
    {
     "data": {
      "text/plain": [
       "pandas.core.frame.DataFrame"
      ]
     },
     "execution_count": 13,
     "metadata": {},
     "output_type": "execute_result"
    }
   ],
   "source": [
    "type(df_obesity[[\"Year\"]])"
   ]
  },
  {
   "cell_type": "markdown",
   "id": "extensive-workstation",
   "metadata": {},
   "source": [
    "### transpose()"
   ]
  },
  {
   "cell_type": "code",
   "execution_count": 18,
   "id": "banner-preserve",
   "metadata": {},
   "outputs": [
    {
     "data": {
      "text/html": [
       "<div>\n",
       "<style scoped>\n",
       "    .dataframe tbody tr th:only-of-type {\n",
       "        vertical-align: middle;\n",
       "    }\n",
       "\n",
       "    .dataframe tbody tr th {\n",
       "        vertical-align: top;\n",
       "    }\n",
       "\n",
       "    .dataframe thead th {\n",
       "        text-align: right;\n",
       "    }\n",
       "</style>\n",
       "<table border=\"1\" class=\"dataframe\">\n",
       "  <thead>\n",
       "    <tr style=\"text-align: right;\">\n",
       "      <th></th>\n",
       "      <th>Year</th>\n",
       "    </tr>\n",
       "  </thead>\n",
       "  <tbody>\n",
       "    <tr>\n",
       "      <th>0</th>\n",
       "      <td>1975</td>\n",
       "    </tr>\n",
       "    <tr>\n",
       "      <th>1</th>\n",
       "      <td>1975</td>\n",
       "    </tr>\n",
       "    <tr>\n",
       "      <th>2</th>\n",
       "      <td>1975</td>\n",
       "    </tr>\n",
       "    <tr>\n",
       "      <th>3</th>\n",
       "      <td>1976</td>\n",
       "    </tr>\n",
       "    <tr>\n",
       "      <th>4</th>\n",
       "      <td>1976</td>\n",
       "    </tr>\n",
       "    <tr>\n",
       "      <th>...</th>\n",
       "      <td>...</td>\n",
       "    </tr>\n",
       "    <tr>\n",
       "      <th>24565</th>\n",
       "      <td>2015</td>\n",
       "    </tr>\n",
       "    <tr>\n",
       "      <th>24566</th>\n",
       "      <td>2015</td>\n",
       "    </tr>\n",
       "    <tr>\n",
       "      <th>24567</th>\n",
       "      <td>2016</td>\n",
       "    </tr>\n",
       "    <tr>\n",
       "      <th>24568</th>\n",
       "      <td>2016</td>\n",
       "    </tr>\n",
       "    <tr>\n",
       "      <th>24569</th>\n",
       "      <td>2016</td>\n",
       "    </tr>\n",
       "  </tbody>\n",
       "</table>\n",
       "<p>24570 rows × 1 columns</p>\n",
       "</div>"
      ],
      "text/plain": [
       "       Year\n",
       "0      1975\n",
       "1      1975\n",
       "2      1975\n",
       "3      1976\n",
       "4      1976\n",
       "...     ...\n",
       "24565  2015\n",
       "24566  2015\n",
       "24567  2016\n",
       "24568  2016\n",
       "24569  2016\n",
       "\n",
       "[24570 rows x 1 columns]"
      ]
     },
     "execution_count": 18,
     "metadata": {},
     "output_type": "execute_result"
    }
   ],
   "source": [
    "df_obesity[[\"Year\"]]"
   ]
  },
  {
   "cell_type": "code",
   "execution_count": 19,
   "id": "optical-highlight",
   "metadata": {},
   "outputs": [
    {
     "data": {
      "text/html": [
       "<div>\n",
       "<style scoped>\n",
       "    .dataframe tbody tr th:only-of-type {\n",
       "        vertical-align: middle;\n",
       "    }\n",
       "\n",
       "    .dataframe tbody tr th {\n",
       "        vertical-align: top;\n",
       "    }\n",
       "\n",
       "    .dataframe thead th {\n",
       "        text-align: right;\n",
       "    }\n",
       "</style>\n",
       "<table border=\"1\" class=\"dataframe\">\n",
       "  <thead>\n",
       "    <tr style=\"text-align: right;\">\n",
       "      <th></th>\n",
       "      <th>0</th>\n",
       "      <th>1</th>\n",
       "      <th>2</th>\n",
       "      <th>3</th>\n",
       "      <th>4</th>\n",
       "      <th>5</th>\n",
       "      <th>6</th>\n",
       "      <th>7</th>\n",
       "      <th>8</th>\n",
       "      <th>9</th>\n",
       "      <th>...</th>\n",
       "      <th>24560</th>\n",
       "      <th>24561</th>\n",
       "      <th>24562</th>\n",
       "      <th>24563</th>\n",
       "      <th>24564</th>\n",
       "      <th>24565</th>\n",
       "      <th>24566</th>\n",
       "      <th>24567</th>\n",
       "      <th>24568</th>\n",
       "      <th>24569</th>\n",
       "    </tr>\n",
       "  </thead>\n",
       "  <tbody>\n",
       "    <tr>\n",
       "      <th>Year</th>\n",
       "      <td>1975</td>\n",
       "      <td>1975</td>\n",
       "      <td>1975</td>\n",
       "      <td>1976</td>\n",
       "      <td>1976</td>\n",
       "      <td>1976</td>\n",
       "      <td>1977</td>\n",
       "      <td>1977</td>\n",
       "      <td>1977</td>\n",
       "      <td>1978</td>\n",
       "      <td>...</td>\n",
       "      <td>2013</td>\n",
       "      <td>2014</td>\n",
       "      <td>2014</td>\n",
       "      <td>2014</td>\n",
       "      <td>2015</td>\n",
       "      <td>2015</td>\n",
       "      <td>2015</td>\n",
       "      <td>2016</td>\n",
       "      <td>2016</td>\n",
       "      <td>2016</td>\n",
       "    </tr>\n",
       "  </tbody>\n",
       "</table>\n",
       "<p>1 rows × 24570 columns</p>\n",
       "</div>"
      ],
      "text/plain": [
       "      0      1      2      3      4      5      6      7      8      9      \\\n",
       "Year   1975   1975   1975   1976   1976   1976   1977   1977   1977   1978   \n",
       "\n",
       "      ...  24560  24561  24562  24563  24564  24565  24566  24567  24568  \\\n",
       "Year  ...   2013   2014   2014   2014   2015   2015   2015   2016   2016   \n",
       "\n",
       "      24569  \n",
       "Year   2016  \n",
       "\n",
       "[1 rows x 24570 columns]"
      ]
     },
     "execution_count": 19,
     "metadata": {},
     "output_type": "execute_result"
    }
   ],
   "source": [
    "df_obesity[[\"Year\"]].transpose()"
   ]
  },
  {
   "cell_type": "markdown",
   "id": "relevant-simple",
   "metadata": {},
   "source": [
    "### shift()"
   ]
  },
  {
   "cell_type": "code",
   "execution_count": 21,
   "id": "trying-nation",
   "metadata": {},
   "outputs": [
    {
     "data": {
      "text/html": [
       "<div>\n",
       "<style scoped>\n",
       "    .dataframe tbody tr th:only-of-type {\n",
       "        vertical-align: middle;\n",
       "    }\n",
       "\n",
       "    .dataframe tbody tr th {\n",
       "        vertical-align: top;\n",
       "    }\n",
       "\n",
       "    .dataframe thead th {\n",
       "        text-align: right;\n",
       "    }\n",
       "</style>\n",
       "<table border=\"1\" class=\"dataframe\">\n",
       "  <thead>\n",
       "    <tr style=\"text-align: right;\">\n",
       "      <th></th>\n",
       "      <th>Year</th>\n",
       "    </tr>\n",
       "  </thead>\n",
       "  <tbody>\n",
       "    <tr>\n",
       "      <th>0</th>\n",
       "      <td>1975</td>\n",
       "    </tr>\n",
       "    <tr>\n",
       "      <th>1</th>\n",
       "      <td>1975</td>\n",
       "    </tr>\n",
       "    <tr>\n",
       "      <th>2</th>\n",
       "      <td>1975</td>\n",
       "    </tr>\n",
       "    <tr>\n",
       "      <th>3</th>\n",
       "      <td>1976</td>\n",
       "    </tr>\n",
       "    <tr>\n",
       "      <th>4</th>\n",
       "      <td>1976</td>\n",
       "    </tr>\n",
       "    <tr>\n",
       "      <th>...</th>\n",
       "      <td>...</td>\n",
       "    </tr>\n",
       "    <tr>\n",
       "      <th>24565</th>\n",
       "      <td>2015</td>\n",
       "    </tr>\n",
       "    <tr>\n",
       "      <th>24566</th>\n",
       "      <td>2015</td>\n",
       "    </tr>\n",
       "    <tr>\n",
       "      <th>24567</th>\n",
       "      <td>2016</td>\n",
       "    </tr>\n",
       "    <tr>\n",
       "      <th>24568</th>\n",
       "      <td>2016</td>\n",
       "    </tr>\n",
       "    <tr>\n",
       "      <th>24569</th>\n",
       "      <td>2016</td>\n",
       "    </tr>\n",
       "  </tbody>\n",
       "</table>\n",
       "<p>24570 rows × 1 columns</p>\n",
       "</div>"
      ],
      "text/plain": [
       "       Year\n",
       "0      1975\n",
       "1      1975\n",
       "2      1975\n",
       "3      1976\n",
       "4      1976\n",
       "...     ...\n",
       "24565  2015\n",
       "24566  2015\n",
       "24567  2016\n",
       "24568  2016\n",
       "24569  2016\n",
       "\n",
       "[24570 rows x 1 columns]"
      ]
     },
     "execution_count": 21,
     "metadata": {},
     "output_type": "execute_result"
    }
   ],
   "source": [
    "df_obesity[\"Year\"]"
   ]
  },
  {
   "cell_type": "code",
   "execution_count": 20,
   "id": "female-mechanics",
   "metadata": {},
   "outputs": [
    {
     "data": {
      "text/plain": [
       "0           NaN\n",
       "1        1975.0\n",
       "2        1975.0\n",
       "3        1975.0\n",
       "4        1976.0\n",
       "          ...  \n",
       "24565    2015.0\n",
       "24566    2015.0\n",
       "24567    2015.0\n",
       "24568    2016.0\n",
       "24569    2016.0\n",
       "Name: Year, Length: 24570, dtype: float64"
      ]
     },
     "execution_count": 20,
     "metadata": {},
     "output_type": "execute_result"
    }
   ],
   "source": [
    "df_obesity[\"Year\"].shift(1)"
   ]
  },
  {
   "cell_type": "markdown",
   "id": "spatial-writer",
   "metadata": {},
   "source": [
    "### isin()"
   ]
  },
  {
   "cell_type": "code",
   "execution_count": 22,
   "id": "psychological-applicant",
   "metadata": {},
   "outputs": [
    {
     "data": {
      "text/plain": [
       "0         True\n",
       "1         True\n",
       "2         True\n",
       "3        False\n",
       "4        False\n",
       "         ...  \n",
       "24565    False\n",
       "24566    False\n",
       "24567    False\n",
       "24568    False\n",
       "24569    False\n",
       "Name: Year, Length: 24570, dtype: bool"
      ]
     },
     "execution_count": 22,
     "metadata": {},
     "output_type": "execute_result"
    }
   ],
   "source": [
    "df_obesity[\"Year\"].isin([1900, 1975])"
   ]
  },
  {
   "cell_type": "markdown",
   "id": "phantom-stereo",
   "metadata": {},
   "source": [
    "### values"
   ]
  },
  {
   "cell_type": "code",
   "execution_count": 23,
   "id": "equipped-links",
   "metadata": {},
   "outputs": [
    {
     "data": {
      "text/plain": [
       "array([1975, 1975, 1975, ..., 2016, 2016, 2016])"
      ]
     },
     "execution_count": 23,
     "metadata": {},
     "output_type": "execute_result"
    }
   ],
   "source": [
    "df_obesity[\"Year\"].values"
   ]
  },
  {
   "cell_type": "code",
   "execution_count": 24,
   "id": "grave-intersection",
   "metadata": {},
   "outputs": [
    {
     "data": {
      "text/plain": [
       "array([[0, 'Afghanistan', 1975, '0.5 [0.2-1.1]', 'Both sexes'],\n",
       "       [1, 'Afghanistan', 1975, '0.2 [0.0-0.6]', 'Male'],\n",
       "       [2, 'Afghanistan', 1975, '0.8 [0.2-2.0]', 'Female'],\n",
       "       ...,\n",
       "       [24567, 'Zimbabwe', 2016, '15.5 [12.0-19.2]', 'Both sexes'],\n",
       "       [24568, 'Zimbabwe', 2016, '4.7 [2.5-8.0]', 'Male'],\n",
       "       [24569, 'Zimbabwe', 2016, '25.3 [19.1-32.0]', 'Female']],\n",
       "      dtype=object)"
      ]
     },
     "execution_count": 24,
     "metadata": {},
     "output_type": "execute_result"
    }
   ],
   "source": [
    "df_obesity.values"
   ]
  },
  {
   "cell_type": "markdown",
   "id": "continued-weekly",
   "metadata": {},
   "source": [
    "### to_dict()"
   ]
  },
  {
   "cell_type": "code",
   "execution_count": 26,
   "id": "declared-surface",
   "metadata": {
    "scrolled": true,
    "tags": []
   },
   "outputs": [
    {
     "data": {
      "text/plain": [
       "{'Unnamed: 0': {1975: 24446,\n",
       "  1976: 24449,\n",
       "  1977: 24452,\n",
       "  1978: 24455,\n",
       "  1979: 24458,\n",
       "  1980: 24461,\n",
       "  1981: 24464,\n",
       "  1982: 24467,\n",
       "  1983: 24470,\n",
       "  1984: 24473,\n",
       "  1985: 24476,\n",
       "  1986: 24479,\n",
       "  1987: 24482,\n",
       "  1988: 24485,\n",
       "  1989: 24488,\n",
       "  1990: 24491,\n",
       "  1991: 24494,\n",
       "  1992: 24497,\n",
       "  1993: 24500,\n",
       "  1994: 24503,\n",
       "  1995: 24506,\n",
       "  1996: 24509,\n",
       "  1997: 24512,\n",
       "  1998: 24515,\n",
       "  1999: 24518,\n",
       "  2000: 24521,\n",
       "  2001: 24524,\n",
       "  2002: 24527,\n",
       "  2003: 24530,\n",
       "  2004: 24533,\n",
       "  2005: 24536,\n",
       "  2006: 24539,\n",
       "  2007: 24542,\n",
       "  2008: 24545,\n",
       "  2009: 24548,\n",
       "  2010: 24551,\n",
       "  2011: 24554,\n",
       "  2012: 24557,\n",
       "  2013: 24560,\n",
       "  2014: 24563,\n",
       "  2015: 24566,\n",
       "  2016: 24569},\n",
       " 'Country': {1975: 'Zimbabwe',\n",
       "  1976: 'Zimbabwe',\n",
       "  1977: 'Zimbabwe',\n",
       "  1978: 'Zimbabwe',\n",
       "  1979: 'Zimbabwe',\n",
       "  1980: 'Zimbabwe',\n",
       "  1981: 'Zimbabwe',\n",
       "  1982: 'Zimbabwe',\n",
       "  1983: 'Zimbabwe',\n",
       "  1984: 'Zimbabwe',\n",
       "  1985: 'Zimbabwe',\n",
       "  1986: 'Zimbabwe',\n",
       "  1987: 'Zimbabwe',\n",
       "  1988: 'Zimbabwe',\n",
       "  1989: 'Zimbabwe',\n",
       "  1990: 'Zimbabwe',\n",
       "  1991: 'Zimbabwe',\n",
       "  1992: 'Zimbabwe',\n",
       "  1993: 'Zimbabwe',\n",
       "  1994: 'Zimbabwe',\n",
       "  1995: 'Zimbabwe',\n",
       "  1996: 'Zimbabwe',\n",
       "  1997: 'Zimbabwe',\n",
       "  1998: 'Zimbabwe',\n",
       "  1999: 'Zimbabwe',\n",
       "  2000: 'Zimbabwe',\n",
       "  2001: 'Zimbabwe',\n",
       "  2002: 'Zimbabwe',\n",
       "  2003: 'Zimbabwe',\n",
       "  2004: 'Zimbabwe',\n",
       "  2005: 'Zimbabwe',\n",
       "  2006: 'Zimbabwe',\n",
       "  2007: 'Zimbabwe',\n",
       "  2008: 'Zimbabwe',\n",
       "  2009: 'Zimbabwe',\n",
       "  2010: 'Zimbabwe',\n",
       "  2011: 'Zimbabwe',\n",
       "  2012: 'Zimbabwe',\n",
       "  2013: 'Zimbabwe',\n",
       "  2014: 'Zimbabwe',\n",
       "  2015: 'Zimbabwe',\n",
       "  2016: 'Zimbabwe'},\n",
       " 'Obesity (%)': {1975: '6.7 [3.0-12.2]',\n",
       "  1976: '7.0 [3.3-12.4]',\n",
       "  1977: '7.4 [3.6-12.7]',\n",
       "  1978: '7.7 [3.9-13.1]',\n",
       "  1979: '8.1 [4.3-13.4]',\n",
       "  1980: '8.4 [4.6-13.7]',\n",
       "  1981: '8.8 [5.0-14.1]',\n",
       "  1982: '9.2 [5.3-14.5]',\n",
       "  1983: '9.6 [5.7-14.9]',\n",
       "  1984: '10.1 [6.1-15.3]',\n",
       "  1985: '10.5 [6.5-15.7]',\n",
       "  1986: '11.0 [7.0-16.1]',\n",
       "  1987: '11.4 [7.4-16.5]',\n",
       "  1988: '11.9 [7.9-17.0]',\n",
       "  1989: '12.4 [8.4-17.6]',\n",
       "  1990: '12.9 [8.9-18.0]',\n",
       "  1991: '13.4 [9.4-18.5]',\n",
       "  1992: '14.0 [9.9-19.0]',\n",
       "  1993: '14.5 [10.3-19.5]',\n",
       "  1994: '15.0 [10.8-20.0]',\n",
       "  1995: '15.5 [11.3-20.5]',\n",
       "  1996: '16.0 [11.8-21.1]',\n",
       "  1997: '16.5 [12.2-21.6]',\n",
       "  1998: '17.0 [12.7-22.1]',\n",
       "  1999: '17.5 [13.2-22.6]',\n",
       "  2000: '18.0 [13.6-23.1]',\n",
       "  2001: '18.5 [14.1-23.7]',\n",
       "  2002: '19.0 [14.5-24.1]',\n",
       "  2003: '19.5 [15.0-24.6]',\n",
       "  2004: '19.9 [15.4-25.1]',\n",
       "  2005: '20.4 [15.9-25.7]',\n",
       "  2006: '20.9 [16.3-26.2]',\n",
       "  2007: '21.3 [16.6-26.6]',\n",
       "  2008: '21.7 [17.0-27.1]',\n",
       "  2009: '22.2 [17.4-27.7]',\n",
       "  2010: '22.6 [17.7-28.1]',\n",
       "  2011: '23.0 [18.0-28.8]',\n",
       "  2012: '23.5 [18.3-29.3]',\n",
       "  2013: '23.9 [18.5-30.0]',\n",
       "  2014: '24.4 [18.8-30.6]',\n",
       "  2015: '24.8 [18.9-31.3]',\n",
       "  2016: '25.3 [19.1-32.0]'},\n",
       " 'Sex': {1975: 'Female',\n",
       "  1976: 'Female',\n",
       "  1977: 'Female',\n",
       "  1978: 'Female',\n",
       "  1979: 'Female',\n",
       "  1980: 'Female',\n",
       "  1981: 'Female',\n",
       "  1982: 'Female',\n",
       "  1983: 'Female',\n",
       "  1984: 'Female',\n",
       "  1985: 'Female',\n",
       "  1986: 'Female',\n",
       "  1987: 'Female',\n",
       "  1988: 'Female',\n",
       "  1989: 'Female',\n",
       "  1990: 'Female',\n",
       "  1991: 'Female',\n",
       "  1992: 'Female',\n",
       "  1993: 'Female',\n",
       "  1994: 'Female',\n",
       "  1995: 'Female',\n",
       "  1996: 'Female',\n",
       "  1997: 'Female',\n",
       "  1998: 'Female',\n",
       "  1999: 'Female',\n",
       "  2000: 'Female',\n",
       "  2001: 'Female',\n",
       "  2002: 'Female',\n",
       "  2003: 'Female',\n",
       "  2004: 'Female',\n",
       "  2005: 'Female',\n",
       "  2006: 'Female',\n",
       "  2007: 'Female',\n",
       "  2008: 'Female',\n",
       "  2009: 'Female',\n",
       "  2010: 'Female',\n",
       "  2011: 'Female',\n",
       "  2012: 'Female',\n",
       "  2013: 'Female',\n",
       "  2014: 'Female',\n",
       "  2015: 'Female',\n",
       "  2016: 'Female'}}"
      ]
     },
     "execution_count": 26,
     "metadata": {},
     "output_type": "execute_result"
    }
   ],
   "source": [
    "df_obesity.set_index(\"Year\").to_dict()"
   ]
  },
  {
   "cell_type": "markdown",
   "id": "daily-action",
   "metadata": {},
   "source": [
    "### isna()"
   ]
  },
  {
   "cell_type": "code",
   "execution_count": 29,
   "id": "democratic-bunny",
   "metadata": {},
   "outputs": [
    {
     "data": {
      "text/plain": [
       "0        False\n",
       "1        False\n",
       "2        False\n",
       "3        False\n",
       "4        False\n",
       "         ...  \n",
       "24565    False\n",
       "24566    False\n",
       "24567    False\n",
       "24568    False\n",
       "24569    False\n",
       "Name: Sex, Length: 24570, dtype: bool"
      ]
     },
     "execution_count": 29,
     "metadata": {},
     "output_type": "execute_result"
    }
   ],
   "source": [
    "df_obesity[\"Sex\"].isna()"
   ]
  },
  {
   "cell_type": "code",
   "execution_count": null,
   "id": "heard-prototype",
   "metadata": {},
   "outputs": [],
   "source": []
  }
 ],
 "metadata": {
  "kernelspec": {
   "display_name": "Python 3 (ipykernel)",
   "language": "python",
   "name": "python3"
  },
  "language_info": {
   "codemirror_mode": {
    "name": "ipython",
    "version": 3
   },
   "file_extension": ".py",
   "mimetype": "text/x-python",
   "name": "python",
   "nbconvert_exporter": "python",
   "pygments_lexer": "ipython3",
   "version": "3.10.2"
  }
 },
 "nbformat": 4,
 "nbformat_minor": 5
}
