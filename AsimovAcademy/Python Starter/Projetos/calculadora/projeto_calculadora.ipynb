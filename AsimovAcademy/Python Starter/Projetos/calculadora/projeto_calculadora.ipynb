{
 "cells": [
  {
   "cell_type": "code",
   "execution_count": 11,
   "id": "b24ad25b-e782-4a5e-ab5e-c7d422ee86b2",
   "metadata": {},
   "outputs": [
    {
     "name": "stdout",
     "output_type": "stream",
     "text": [
      "\u001b[H\u001b[2J"
     ]
    },
    {
     "name": "stdin",
     "output_type": "stream",
     "text": [
      "\n",
      "               0: Soma\n",
      "               1: Subtração\n",
      "               2: Multiplicação\n",
      "               3: Divisão\n",
      "               4: Exponenciação 0\n"
     ]
    },
    {
     "name": "stdout",
     "output_type": "stream",
     "text": [
      "Operação Escolhida: 0\n"
     ]
    },
    {
     "name": "stdin",
     "output_type": "stream",
     "text": [
      "Qual o primeiro valor?  1\n",
      "Qual o segundo valor?  2\n"
     ]
    },
    {
     "name": "stdout",
     "output_type": "stream",
     "text": [
      "Resultado: 3.0\n"
     ]
    },
    {
     "name": "stdin",
     "output_type": "stream",
     "text": [
      "Deseja fazer outra operação? 0 - SIM, 1 - NÃO 0\n"
     ]
    },
    {
     "name": "stdout",
     "output_type": "stream",
     "text": [
      "\u001b[H\u001b[2J"
     ]
    },
    {
     "name": "stdin",
     "output_type": "stream",
     "text": [
      "\n",
      "               0: Soma\n",
      "               1: Subtração\n",
      "               2: Multiplicação\n",
      "               3: Divisão\n",
      "               4: Exponenciação 5\n"
     ]
    },
    {
     "name": "stdout",
     "output_type": "stream",
     "text": [
      "Operação Escolhida: 5\n"
     ]
    },
    {
     "name": "stdin",
     "output_type": "stream",
     "text": [
      "Qual o primeiro valor?  4\n",
      "Qual o segundo valor?  7\n"
     ]
    },
    {
     "name": "stdout",
     "output_type": "stream",
     "text": [
      "Resultado: 3.0\n"
     ]
    },
    {
     "name": "stdin",
     "output_type": "stream",
     "text": [
      "Deseja fazer outra operação? 0 - SIM, 1 - NÃO 1\n"
     ]
    }
   ],
   "source": [
    "import os\n",
    "\n",
    "resp = 0    \n",
    "    \n",
    "while resp != 1:\n",
    "    os.system(\"clear\")\n",
    "    op = int(input(\"\"\"\n",
    "               0: Soma\n",
    "               1: Subtração\n",
    "               2: Multiplicação\n",
    "               3: Divisão\n",
    "               4: Exponenciação\"\"\"))\n",
    "    print(f'Operação Escolhida: {op}')\n",
    "    n1 = float(input('Qual o primeiro valor? '))\n",
    "    n2 = float(input('Qual o segundo valor? '))\n",
    "    \n",
    "    if op == 0:\n",
    "        r = n1 + n2    \n",
    "    if op == 1:\n",
    "        r = n1 - n2\n",
    "    if op == 2:\n",
    "        r = n1 * n2\n",
    "    if op == 3:\n",
    "        r = n1 / n2\n",
    "    if op == 4:\n",
    "        r = n1 ** n2\n",
    "        \n",
    "    print(f'Resultado: {r}')\n",
    "    resp = int(input('Deseja fazer outra operação? 0 - SIM, 1 - NÃO'))"
   ]
  },
  {
   "cell_type": "code",
   "execution_count": null,
   "id": "be28828a-b2c4-495d-810f-8c1b9950478c",
   "metadata": {},
   "outputs": [],
   "source": []
  }
 ],
 "metadata": {
  "kernelspec": {
   "display_name": "Python 3 (ipykernel)",
   "language": "python",
   "name": "python3"
  },
  "language_info": {
   "codemirror_mode": {
    "name": "ipython",
    "version": 3
   },
   "file_extension": ".py",
   "mimetype": "text/x-python",
   "name": "python",
   "nbconvert_exporter": "python",
   "pygments_lexer": "ipython3",
   "version": "3.10.9"
  }
 },
 "nbformat": 4,
 "nbformat_minor": 5
}
