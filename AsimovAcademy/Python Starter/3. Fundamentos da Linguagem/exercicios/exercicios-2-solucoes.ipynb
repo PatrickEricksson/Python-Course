{
 "cells": [
  {
   "cell_type": "markdown",
   "metadata": {},
   "source": [
    "<img src=\"https://asimov.academy/wp-content/uploads/2021/01/logo.png\" width=\"200\"/>\n",
    "_____________________________________________\n",
    "\n",
    "## Exercícios #1 - Operadores de comparação e laços\n"
   ]
  },
  {
   "cell_type": "markdown",
   "metadata": {},
   "source": [
    "### Exercício 1\n",
    "Faça um programa para a leitura de duas notas parciais de um aluno. O programa deve calcular a média alcançada por aluno e apresentar:\n",
    "- A mensagem \"Aprovado\", se a média alcançada for maior ou igual a 7;\n",
    "- A mensagem \"Reprovado\", se a média for menor do que 7;\n",
    "- A mensagem \"Aprovado com Distinção\", se a média for igual a 10."
   ]
  },
  {
   "cell_type": "code",
   "execution_count": 1,
   "metadata": {},
   "outputs": [
    {
     "name": "stdout",
     "output_type": "stream",
     "text": [
      "Informe a primeira nota do aluno:\n"
     ]
    },
    {
     "name": "stdin",
     "output_type": "stream",
     "text": [
      " 8\n"
     ]
    },
    {
     "name": "stdout",
     "output_type": "stream",
     "text": [
      "Informe a primeira nota do aluno:\n"
     ]
    },
    {
     "name": "stdin",
     "output_type": "stream",
     "text": [
      " 6\n"
     ]
    },
    {
     "name": "stdout",
     "output_type": "stream",
     "text": [
      "========================\n",
      "A média das notas é: 7.0\n",
      "Aprovado!\n"
     ]
    }
   ],
   "source": [
    "print(\"Informe a primeira nota do aluno:\")\n",
    "n1 = float(input())\n",
    "print(\"Informe a primeira nota do aluno:\")\n",
    "n2 = float(input())\n",
    "media = (n1 + n2) / 2\n",
    "\n",
    "print(\"========================\")\n",
    "print(\"A média das notas é: {}\".format(media))\n",
    "\n",
    "if media == 10:\n",
    "    print(\"Aprovado com distinção!\")\n",
    "elif media >= 7:\n",
    "    print(\"Aprovado!\")\n",
    "else:\n",
    "    print(\"Reprovado.\")"
   ]
  },
  {
   "cell_type": "markdown",
   "metadata": {},
   "source": [
    "### Exercício 2\n",
    "Escreva um script que leia três números e mostre o maior e o menor deles."
   ]
  },
  {
   "cell_type": "code",
   "execution_count": 6,
   "metadata": {},
   "outputs": [
    {
     "name": "stdout",
     "output_type": "stream",
     "text": [
      "Informe o 0º número:\n"
     ]
    },
    {
     "name": "stdin",
     "output_type": "stream",
     "text": [
      " 1\n"
     ]
    },
    {
     "name": "stdout",
     "output_type": "stream",
     "text": [
      "Informe o 1º número:\n"
     ]
    },
    {
     "name": "stdin",
     "output_type": "stream",
     "text": [
      " 50\n"
     ]
    },
    {
     "name": "stdout",
     "output_type": "stream",
     "text": [
      "Informe o 2º número:\n"
     ]
    },
    {
     "name": "stdin",
     "output_type": "stream",
     "text": [
      " 7\n"
     ]
    },
    {
     "name": "stdout",
     "output_type": "stream",
     "text": [
      "========================\n",
      "Maior número: 50\n",
      "Menor número: 1\n"
     ]
    }
   ],
   "source": [
    "list_nums = []\n",
    "for i in range(3):\n",
    "    print(\"Informe o {}º número:\".format(i))\n",
    "    list_nums.append(int(input()))\n",
    "    \n",
    "list_nums.sort()\n",
    "print(\"========================\")\n",
    "print(\"Maior número: {}\".format(list_nums[-1]))\n",
    "print(\"Menor número: {}\".format(list_nums[0]))"
   ]
  },
  {
   "cell_type": "markdown",
   "metadata": {},
   "source": [
    "### Exercício 3 \n",
    "Nome na vertical em escada. \n",
    "\n",
    "F<br>\n",
    "FU<br>\n",
    "FUL<br>\n",
    "FULA<br>\n",
    "FULAN<br>\n",
    "FULANO<br>"
   ]
  },
  {
   "cell_type": "code",
   "execution_count": 8,
   "metadata": {},
   "outputs": [
    {
     "name": "stdout",
     "output_type": "stream",
     "text": [
      "Informe o nome:\n"
     ]
    },
    {
     "name": "stdin",
     "output_type": "stream",
     "text": [
      " Rodrigo\n"
     ]
    },
    {
     "name": "stdout",
     "output_type": "stream",
     "text": [
      "\n",
      "R\n",
      "Ro\n",
      "Rod\n",
      "Rodr\n",
      "Rodri\n",
      "Rodrig\n",
      "Rodrigo\n"
     ]
    }
   ],
   "source": [
    "print(\"Informe o nome:\")\n",
    "nome = input()\n",
    "print(\"========================\")\n",
    "for i in range(len(nome) + 1):\n",
    "    print(nome[:i])"
   ]
  },
  {
   "cell_type": "markdown",
   "metadata": {},
   "source": [
    "### Exercício 4\n",
    "A série de Fibonacci é formada pela seqüência 1,1,2,3,5,8,13,21,34,55,... (o próximo termo, a partir do terceiro, é sempre gerado a partir do somatório dos últimos dois). Faça um programa capaz de gerar a série até o n−ésimo termo (onde o valor n deve ser inserido pelo usuário)."
   ]
  },
  {
   "cell_type": "code",
   "execution_count": 14,
   "metadata": {},
   "outputs": [
    {
     "name": "stdout",
     "output_type": "stream",
     "text": [
      "Qual o tamanho da sequência de Fibonancci você deseja ver?\n"
     ]
    },
    {
     "name": "stdin",
     "output_type": "stream",
     "text": [
      " 10\n"
     ]
    },
    {
     "name": "stdout",
     "output_type": "stream",
     "text": [
      "1\n",
      "1\n",
      "2\n",
      "3\n",
      "5\n",
      "8\n",
      "13\n",
      "21\n",
      "34\n",
      "55\n",
      "89\n",
      "144\n"
     ]
    }
   ],
   "source": [
    "print(\"Qual o tamanho da sequência de Fibonancci você deseja ver?\")\n",
    "n = int(input())\n",
    "\n",
    "v0 = 0\n",
    "v1 = 1\n",
    "v = 1\n",
    "print(\"========================\")\n",
    "print(1)\n",
    "for i in range(n+1):\n",
    "    print(v)\n",
    "    v0 = v1\n",
    "    v1 = v\n",
    "    v = v1 + v0"
   ]
  },
  {
   "cell_type": "markdown",
   "metadata": {},
   "source": [
    "### Exercício 5\n",
    "Faça um programa que leia e valide as seguintes informações:\n",
    "- Nome: maior que 3 caracteres;\n",
    "- Idade: entre 0 e 150;\n",
    "- Salário: maior que zero;\n",
    "- Sexo: 'f' ou 'm';\n",
    "- Estado Civil: 's', 'c', 'v', 'd';"
   ]
  },
  {
   "cell_type": "code",
   "execution_count": null,
   "metadata": {},
   "outputs": [],
   "source": [
    "print(\"Informe o nome\":)\n",
    "nome = input()\n",
    "if len(nome) < 3:\n",
    "    print(\"O nome deve conter mais de 3 caracteres\".)\n",
    "\n"
   ]
  },
  {
   "cell_type": "markdown",
   "metadata": {},
   "source": [
    "### Exercício 6\n",
    "Faça um programa que peça um número inteiro e determine se ele é ou não um número primo. Um número primo é aquele que é divisível somente por ele mesmo e por 1. \n",
    "Dica: Utilize o operador aritmético `%`, que retorna o resto da divisão de dois números."
   ]
  },
  {
   "cell_type": "code",
   "execution_count": 26,
   "metadata": {},
   "outputs": [
    {
     "name": "stdout",
     "output_type": "stream",
     "text": [
      "Informe um número\n"
     ]
    },
    {
     "name": "stdin",
     "output_type": "stream",
     "text": [
      " 97\n"
     ]
    },
    {
     "name": "stdout",
     "output_type": "stream",
     "text": [
      "========================\n",
      "É primo!\n"
     ]
    }
   ],
   "source": [
    "print(\"Informe um número\")\n",
    "n = int(input())\n",
    "\n",
    "check = 0\n",
    "\n",
    "for i in range(2, n):\n",
    "    if n % i == 0:\n",
    "        check = 1\n",
    "        break\n",
    "\n",
    "print(\"========================\")\n",
    "if check == 0:\n",
    "    print(\"É primo!\")\n",
    "else:\n",
    "    print(\"Não é primo!\")"
   ]
  }
 ],
 "metadata": {
  "kernelspec": {
   "display_name": "Python 3",
   "language": "python",
   "name": "python3"
  },
  "language_info": {
   "codemirror_mode": {
    "name": "ipython",
    "version": 3
   },
   "file_extension": ".py",
   "mimetype": "text/x-python",
   "name": "python",
   "nbconvert_exporter": "python",
   "pygments_lexer": "ipython3",
   "version": "3.8.8"
  }
 },
 "nbformat": 4,
 "nbformat_minor": 4
}
