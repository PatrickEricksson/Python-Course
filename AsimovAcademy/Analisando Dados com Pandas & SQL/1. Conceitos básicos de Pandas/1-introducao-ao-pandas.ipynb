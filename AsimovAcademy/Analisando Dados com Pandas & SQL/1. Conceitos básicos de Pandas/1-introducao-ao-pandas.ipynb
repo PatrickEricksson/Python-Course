{
 "cells": [
  {
   "cell_type": "markdown",
   "metadata": {},
   "source": [
    "<img src=\"logo.png\" width=\"200\"/>"
   ]
  },
  {
   "cell_type": "markdown",
   "metadata": {},
   "source": [
    "# Introdução aos Pandas\n",
    "\n",
    "Neste curso, aprenderemos a usar pandas para análise de dados. Você deve enxergar o pandas como uma versão extremamente poderosa do Excel, com muito mais recursos. Nesta seção do curso, você deve passar pelos notebooks nesta ordem:\n",
    "\n",
    "* Introdução aos Pandas\n",
    "* Series\n",
    "* DataFrames\n",
    "* Dados ausentes\n",
    "* GroupBy\n",
    "* Mesclar,Juntar, e Concatenar\n",
    "* Operações\n",
    "* Entrada e saída de dados"
   ]
  },
  {
   "cell_type": "markdown",
   "metadata": {},
   "source": [
    "___"
   ]
  }
 ],
 "metadata": {
  "kernelspec": {
   "display_name": "Python 3",
   "language": "python",
   "name": "python3"
  },
  "language_info": {
   "codemirror_mode": {
    "name": "ipython",
    "version": 3
   },
   "file_extension": ".py",
   "mimetype": "text/x-python",
   "name": "python",
   "nbconvert_exporter": "python",
   "pygments_lexer": "ipython3",
   "version": "3.9.2"
  }
 },
 "nbformat": 4,
 "nbformat_minor": 4
}
