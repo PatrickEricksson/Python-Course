{
 "cells": [
  {
   "cell_type": "code",
   "execution_count": 1,
   "id": "fe5b48ef",
   "metadata": {},
   "outputs": [],
   "source": [
    "import sqlite3"
   ]
  },
  {
   "cell_type": "code",
   "execution_count": 2,
   "id": "592c93bb",
   "metadata": {},
   "outputs": [],
   "source": [
    "import pandas as pd"
   ]
  },
  {
   "cell_type": "code",
   "execution_count": 3,
   "id": "c63d08ac",
   "metadata": {},
   "outputs": [],
   "source": [
    "conn = sqlite3.connect('web_test.db')"
   ]
  },
  {
   "cell_type": "code",
   "execution_count": 15,
   "id": "205e7b81",
   "metadata": {},
   "outputs": [
    {
     "data": {
      "text/plain": [
       "201"
      ]
     },
     "execution_count": 15,
     "metadata": {},
     "output_type": "execute_result"
    }
   ],
   "source": [
    "df_data = pd.read_csv('bd_data.csv', index_col=0)\n",
    "df_data.index.name = 'index_name'\n",
    "df_data.to_sql('data', conn, index_label='index_name')"
   ]
  },
  {
   "cell_type": "code",
   "execution_count": 8,
   "id": "80d7bfae",
   "metadata": {},
   "outputs": [],
   "source": [
    "c = conn.cursor()\n",
    "c.execute('CREATE TABLE products (product_id, product_name, price)')\n",
    "conn.commit()"
   ]
  },
  {
   "cell_type": "code",
   "execution_count": 14,
   "id": "64d9a26a",
   "metadata": {},
   "outputs": [
    {
     "data": {
      "text/plain": [
       "<sqlite3.Cursor at 0x12d1182aa40>"
      ]
     },
     "execution_count": 14,
     "metadata": {},
     "output_type": "execute_result"
    }
   ],
   "source": [
    "c.execute('DROP TABLE products')\n",
    "c.execute('DROP TABLE data')"
   ]
  },
  {
   "cell_type": "code",
   "execution_count": 16,
   "id": "110bb9a4",
   "metadata": {},
   "outputs": [
    {
     "data": {
      "text/plain": [
       "<sqlite3.Cursor at 0x12d1182aa40>"
      ]
     },
     "execution_count": 16,
     "metadata": {},
     "output_type": "execute_result"
    }
   ],
   "source": [
    "c.execute('CREATE TABLE products ([product_id] INTEGER PRIMARY KEY, [product_name] TEXT, [price] INTEGER)')"
   ]
  },
  {
   "cell_type": "code",
   "execution_count": 17,
   "id": "2f25fff5",
   "metadata": {},
   "outputs": [
    {
     "data": {
      "text/plain": [
       "<sqlite3.Cursor at 0x12d1182aa40>"
      ]
     },
     "execution_count": 17,
     "metadata": {},
     "output_type": "execute_result"
    }
   ],
   "source": [
    "# INSERT\n",
    "c.execute('''INSERT INTO products (product_id, product_name, price)\n",
    "    VALUES\n",
    "    (1, 'Computer', 800),\n",
    "    (2, 'Printer', 200),\n",
    "    (3, 'Tablet', 300)\n",
    "''')"
   ]
  },
  {
   "cell_type": "code",
   "execution_count": 18,
   "id": "8e2fc218",
   "metadata": {},
   "outputs": [],
   "source": [
    "conn.commit()"
   ]
  },
  {
   "cell_type": "code",
   "execution_count": 19,
   "id": "cff128eb",
   "metadata": {},
   "outputs": [
    {
     "data": {
      "text/plain": [
       "101"
      ]
     },
     "execution_count": 19,
     "metadata": {},
     "output_type": "execute_result"
    }
   ],
   "source": [
    "df_data2 = df_data.iloc[::-2]\n",
    "df_data2.to_sql('data', conn, if_exists='append')"
   ]
  },
  {
   "cell_type": "code",
   "execution_count": 24,
   "id": "70a84614",
   "metadata": {},
   "outputs": [],
   "source": [
    "c.execute(\"SELECT * FROM data\")\n",
    "c.fetchone()\n",
    "c.fetchall()\n",
    "df = pd.DataFrame(c.fetchall())"
   ]
  },
  {
   "cell_type": "code",
   "execution_count": 25,
   "id": "ec89a782",
   "metadata": {},
   "outputs": [],
   "source": [
    "c.execute(\"SELECT * FROM data WHERE A > 200\")\n",
    "df = pd.DataFrame(c.fetchall())"
   ]
  },
  {
   "cell_type": "code",
   "execution_count": null,
   "id": "fd46f863",
   "metadata": {},
   "outputs": [],
   "source": []
  }
 ],
 "metadata": {
  "kernelspec": {
   "display_name": "Python 3 (ipykernel)",
   "language": "python",
   "name": "python3"
  },
  "language_info": {
   "codemirror_mode": {
    "name": "ipython",
    "version": 3
   },
   "file_extension": ".py",
   "mimetype": "text/x-python",
   "name": "python",
   "nbconvert_exporter": "python",
   "pygments_lexer": "ipython3",
   "version": "3.10.13"
  }
 },
 "nbformat": 4,
 "nbformat_minor": 5
}
