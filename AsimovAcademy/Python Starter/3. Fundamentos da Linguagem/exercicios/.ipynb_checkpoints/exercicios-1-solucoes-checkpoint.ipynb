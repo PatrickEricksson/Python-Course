{
 "cells": [
  {
   "cell_type": "markdown",
   "metadata": {},
   "source": [
    "## Exercícios #1 - Estruturas de dados\n"
   ]
  },
  {
   "cell_type": "markdown",
   "metadata": {},
   "source": [
    "### Exercício 1\n",
    "Utilizando o built-in method input(), crie um programa que receba a altura e o peso de uma pessoa e imprima na tela o IMC da mesma."
   ]
  },
  {
   "cell_type": "code",
   "execution_count": 5,
   "metadata": {},
   "outputs": [
    {
     "name": "stdout",
     "output_type": "stream",
     "text": [
      "Bem vindo a calculadora de IMC.\n",
      "Por favor, informe sua altura:\n"
     ]
    },
    {
     "name": "stdin",
     "output_type": "stream",
     "text": [
      " 1.90\n"
     ]
    },
    {
     "name": "stdout",
     "output_type": "stream",
     "text": [
      "Por favor, informe seu peso:\n"
     ]
    },
    {
     "name": "stdin",
     "output_type": "stream",
     "text": [
      " 92\n"
     ]
    },
    {
     "name": "stdout",
     "output_type": "stream",
     "text": [
      "Calculando...\n",
      "Seu IMC é: 25.48\n"
     ]
    }
   ],
   "source": [
    "import time\n",
    "\n",
    "print(\"Bem vindo a calculadora de IMC.\")\n",
    "print(\"Por favor, informe sua altura:\")\n",
    "altura = float(input())\n",
    "print(\"Por favor, informe seu peso:\")\n",
    "peso = float(input())\n",
    "\n",
    "print(\"Calculando...\")\n",
    "print(\"=============\")\n",
    "time.sleep(1)\n",
    "print(\"Seu IMC é: {:.2f}\".format(peso / altura ** 2))"
   ]
  },
  {
   "cell_type": "markdown",
   "metadata": {},
   "source": [
    "### Exercício 2 \n",
    "Escreva um programa que pergunte o nome completo do usuário e cumprimente o mesmo pelo primeiro nome."
   ]
  },
  {
   "cell_type": "code",
   "execution_count": 7,
   "metadata": {},
   "outputs": [
    {
     "name": "stdout",
     "output_type": "stream",
     "text": [
      "Qual é seu nome completo?\n"
     ]
    },
    {
     "name": "stdin",
     "output_type": "stream",
     "text": [
      " Rodrigo Soares\n"
     ]
    },
    {
     "name": "stdout",
     "output_type": "stream",
     "text": [
      "\n",
      "\n",
      "\n",
      "Olá, Rodrigo!\n"
     ]
    }
   ],
   "source": [
    "print(\"Qual é seu nome completo?\")\n",
    "nome = input()\n",
    "primeiro_nome = nome.split(\" \")[0]\n",
    "print(\"\\n\")\n",
    "print(\"Olá, {}!\".format(primeiro_nome))"
   ]
  },
  {
   "cell_type": "markdown",
   "metadata": {},
   "source": [
    "### Exercício 3\n",
    "Desenho um código que extraia o domínio de um e-mail informado."
   ]
  },
  {
   "cell_type": "code",
   "execution_count": 3,
   "metadata": {},
   "outputs": [
    {
     "name": "stdout",
     "output_type": "stream",
     "text": [
      "Informe um e-mail\n"
     ]
    },
    {
     "name": "stdin",
     "output_type": "stream",
     "text": [
      " rodrigo@gmail.com\n"
     ]
    },
    {
     "name": "stdout",
     "output_type": "stream",
     "text": [
      "\n",
      "\n",
      "O domínio do e-mail é: gmail.com\n"
     ]
    }
   ],
   "source": [
    "print(\"Informe um e-mail\")\n",
    "email = input()\n",
    "dominio = email.split(\"@\")[-1]\n",
    "print(\"\\n\")\n",
    "print(\"O domínio do e-mail é: {}\".format(dominio))"
   ]
  },
  {
   "cell_type": "markdown",
   "metadata": {},
   "source": [
    "### Exercício 4 \n",
    "Faça um programa para uma loja de tintas. A pessoa informa a área em m2 que deseja pintar, e o script calculará a quantidade de latas de tinta que a pessoa deve comprar e o valor. Considere que cada litro de tinta pinta 3m2, que cada lata contém 18L e que custa R$ 80."
   ]
  },
  {
   "cell_type": "code",
   "execution_count": 4,
   "metadata": {},
   "outputs": [
    {
     "name": "stdout",
     "output_type": "stream",
     "text": [
      "Bem vindo à loja de tintas.\n",
      "Informe a área que você deseja pintar em m2:\n"
     ]
    },
    {
     "name": "stdin",
     "output_type": "stream",
     "text": [
      " 180\n"
     ]
    },
    {
     "name": "stdout",
     "output_type": "stream",
     "text": [
      "Você precisará de 3 latas e elas custarão 240 reais.\n"
     ]
    }
   ],
   "source": [
    "print(\"Bem vindo à loja de tintas.\")\n",
    "print(\"Informe a área que você deseja pintar em m2:\")\n",
    "area = float(input())\n",
    "\n",
    "volume_necessario = area / 3\n",
    "latas = int(volume_necessario / 18)\n",
    "custo = latas * 80\n",
    "print(\"Você precisará de {} latas e elas custarão {} reais.\".format(latas, custo))"
   ]
  },
  {
   "cell_type": "markdown",
   "metadata": {},
   "source": [
    "### Exercício 5\n",
    "Faça um Programa que pergunte quanto você ganha por hora e o número de horas trabalhadas no mês. Calcule e mostre o total do seu salário no referido mês, sabendo-se que são descontados 11% para o Imposto de Renda, 8% para o INSS e 5% para o sindicato, faça um programa que nos dê:\n",
    "\n",
    "1. salário bruto.\n",
    "2. quanto pagou ao IR.\n",
    "3. quanto pagou ao INSS.\n",
    "4. quanto pagou ao sindicato.\n",
    "5. o salário líquido."
   ]
  },
  {
   "cell_type": "code",
   "execution_count": 11,
   "metadata": {},
   "outputs": [
    {
     "name": "stdout",
     "output_type": "stream",
     "text": [
      "Calculadora de salário.\n",
      "Informe sua remuneração por horas:\n"
     ]
    },
    {
     "name": "stdin",
     "output_type": "stream",
     "text": [
      " 20\n"
     ]
    },
    {
     "name": "stdout",
     "output_type": "stream",
     "text": [
      "Informe quantas horas trabalhou por mês.\n"
     ]
    },
    {
     "name": "stdin",
     "output_type": "stream",
     "text": [
      " 240\n"
     ]
    },
    {
     "name": "stdout",
     "output_type": "stream",
     "text": [
      "========================\n",
      "1. Salário bruto: R$ 4800.00\n",
      "2. Valor pago de IR: R$ 528.00\n",
      "2. Valor pago de INSS: R$ 341.76\n",
      "4. Valo pago ao sindicato: R$ 196.51\n",
      "5. Salário líquido: R$ 3733.73\n"
     ]
    }
   ],
   "source": [
    "print(\"Calculadora de salário.\")\n",
    "print(\"Informe sua remuneração por horas:\")\n",
    "valor_por_hora = float(input())\n",
    "print(\"Informe quantas horas trabalhou por mês.\")\n",
    "horas_trabalhadas = float(input())\n",
    "\n",
    "salario = valor_por_hora * horas_trabalhadas\n",
    "ir = salario * 0.11\n",
    "inss = (salario - ir) * 0.08\n",
    "sindicato = (salario - ir - inss) * 0.05\n",
    "\n",
    "print(\"========================\")\n",
    "print(\"1. Salário bruto: R$ {:.2f}\".format(salario))\n",
    "print(\"2. Valor pago de IR: R$ {:.2f}\".format(ir))\n",
    "print(\"2. Valor pago de INSS: R$ {:.2f}\".format(inss))\n",
    "print(\"4. Valo pago ao sindicato: R$ {:.2f}\".format(sindicato))\n",
    "print(\"5. Salário líquido: R$ {:.2f}\".format(salario - ir - inss - sindicato ))"
   ]
  }
 ],
 "metadata": {
  "kernelspec": {
   "display_name": "Python 3",
   "language": "python",
   "name": "python3"
  },
  "language_info": {
   "codemirror_mode": {
    "name": "ipython",
    "version": 3
   },
   "file_extension": ".py",
   "mimetype": "text/x-python",
   "name": "python",
   "nbconvert_exporter": "python",
   "pygments_lexer": "ipython3",
   "version": "3.8.8"
  }
 },
 "nbformat": 4,
 "nbformat_minor": 4
}
